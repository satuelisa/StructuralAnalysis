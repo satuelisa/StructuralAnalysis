{
  "nbformat": 4,
  "nbformat_minor": 0,
  "metadata": {
    "colab": {
      "name": "Ch2.ipynb",
      "provenance": [],
      "collapsed_sections": [],
      "authorship_tag": "ABX9TyMpLQgvpDH3W9pd6P08ZriY",
      "include_colab_link": true
    },
    "kernelspec": {
      "name": "python3",
      "display_name": "Python 3"
    },
    "language_info": {
      "name": "python"
    }
  },
  "cells": [
    {
      "cell_type": "markdown",
      "metadata": {
        "id": "view-in-github",
        "colab_type": "text"
      },
      "source": [
        "<a href=\"https://colab.research.google.com/github/satuelisa/StructuralAnalysis/blob/main/Ch2.ipynb\" target=\"_parent\"><img src=\"https://colab.research.google.com/assets/colab-badge.svg\" alt=\"Open In Colab\"/></a>"
      ]
    },
    {
      "cell_type": "code",
      "execution_count": 4,
      "metadata": {
        "colab": {
          "base_uri": "https://localhost:8080/"
        },
        "id": "yCBC-vIgWAIz",
        "outputId": "119e7e38-8d29-4373-d116-aff8f39f9860"
      },
      "outputs": [
        {
          "output_type": "stream",
          "name": "stdout",
          "text": [
            "undirected [('v', 'w')]\n",
            "directed [('v', 'w')]\n",
            "multigraph ['v w a 2', 'v w b 5']\n"
          ]
        }
      ],
      "source": [
        "import networkx as nx\n",
        "# undirected graph, single edge\n",
        "G = nx.Graph()\n",
        "G.add_node('v')\n",
        "G.add_node('w')\n",
        "G.add_edge('v', 'w')\n",
        "print('undirected', G.edges) # let us see the edge\n",
        "# directed graph, two edges between a pair of nodes\n",
        "G = nx.DiGraph() # directed graph\n",
        "G.add_edge('v', 'w') # this edge is from v to w\n",
        "print('directed', G.edges) # the printout looks the same, but this HAS an orientation\n",
        "# multigraph, a double undirected edge\n",
        "G = nx.MultiGraph() # multigraph\n",
        "G.add_edge('v', 'w', key = 'a', weight = 2) # this one weighs two units\n",
        "G.add_edge('v', 'w', key = 'b', weight = 5) # this one weighs five units\n",
        "# these are a bit trickier to print in order to see the key and the weight\n",
        "# G.edges() returns us triplets (x, y, z) where x and y are the vertices and z is the key\n",
        "# using those triples, we can then query the graph to get the associated weight\n",
        "print('multigraph', [ f\"{x} {y} {z} {G[x][y][z]['weight']}\" for (x, y, z) in G.edges ])"
      ]
    }
  ]
}