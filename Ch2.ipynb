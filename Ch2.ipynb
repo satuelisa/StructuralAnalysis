{
  "nbformat": 4,
  "nbformat_minor": 0,
  "metadata": {
    "colab": {
      "name": "Ch2.ipynb",
      "provenance": [],
      "collapsed_sections": [],
      "authorship_tag": "ABX9TyNuFGbc7XmmAj98Y5HoJXtw",
      "include_colab_link": true
    },
    "kernelspec": {
      "name": "python3",
      "display_name": "Python 3"
    },
    "language_info": {
      "name": "python"
    }
  },
  "cells": [
    {
      "cell_type": "markdown",
      "metadata": {
        "id": "view-in-github",
        "colab_type": "text"
      },
      "source": [
        "<a href=\"https://colab.research.google.com/github/satuelisa/StructuralAnalysis/blob/main/Ch2.ipynb\" target=\"_parent\"><img src=\"https://colab.research.google.com/assets/colab-badge.svg\" alt=\"Open In Colab\"/></a>"
      ]
    },
    {
      "cell_type": "code",
      "execution_count": 34,
      "metadata": {
        "colab": {
          "base_uri": "https://localhost:8080/"
        },
        "id": "yCBC-vIgWAIz",
        "outputId": "2e95317d-6be4-42e9-81b8-9ab271787eb9"
      },
      "outputs": [
        {
          "output_type": "stream",
          "name": "stdout",
          "text": [
            "undirected [('v', 'w')]\n",
            "directed [('v', 'w')]\n",
            "multigraph ['v w a 2', 'v w b 5']\n",
            "Manual: Graph with 7 nodes and 21 edges\n",
            "Library: Graph with 7 nodes and 21 edges\n",
            "Graph with 23 nodes and 19 edges\n",
            "6 components\n",
            "[22, 7, 18, 20]\n",
            "[16, 13, 11, 15]\n"
          ]
        }
      ],
      "source": [
        "import networkx as nx\n",
        "\n",
        "# EDGE CREATION\n",
        "\n",
        "# undirected graph, single edge\n",
        "G = nx.Graph()\n",
        "G.add_node('v')\n",
        "G.add_node('w')\n",
        "G.add_edge('v', 'w')\n",
        "print('undirected', G.edges) # let us see the edge\n",
        "# directed graph, two edges between a pair of nodes\n",
        "G = nx.DiGraph() # directed graph\n",
        "G.add_edge('v', 'w') # this edge is from v to w\n",
        "print('directed', G.edges) # the printout looks the same, but this HAS an orientation\n",
        "# multigraph, a double undirected edge\n",
        "G = nx.MultiGraph() # multigraph\n",
        "G.add_edge('v', 'w', key = 'a', weight = 2) # this one weighs two units\n",
        "G.add_edge('v', 'w', key = 'b', weight = 5) # this one weighs five units\n",
        "# these are a bit trickier to print in order to see the key and the weight\n",
        "# G.edges() returns us triplets (x, y, z) where x and y are the vertices and z is the key\n",
        "# using those triples, we can then query the graph to get the associated weight\n",
        "print('multigraph', [ f\"{x} {y} {z} {G[x][y][z]['weight']}\" for (x, y, z) in G.edges ])\n",
        "\n",
        "# COMPLETE GRAPH\n",
        "\n",
        "Gm = nx.Graph() # build a complete graph manually, first\n",
        "n = 7 # the desired graph order\n",
        "for v in range(n): # vertices 0, 1, ..., 6\n",
        "    for w in range(v + 1, n): # connected to all the others\n",
        "         Gm.add_edge(v, w) # create the edge\n",
        "m = Gm.size() # check the size of the resulting graph\n",
        "print('Manual:', Gm)\n",
        "assert 2 * m == n * (n - 1) # this invariant must hold\n",
        "from networkx.generators.classic import complete_graph\n",
        "Gl = complete_graph(n) # using a ready-made library routine\n",
        "assert n == len(Gl) # number of vertices must match\n",
        "assert m == Gl.size() # number of edges must also match\n",
        "print('Library:', Gl)\n",
        "\n",
        "# SMALL EXPERIMENT REGARDING COMPONENTS, PATHS, AND DIAMETERS\n",
        "\n",
        "n = 23 # graph order\n",
        "p = 0.07 # edge probability\n",
        "from networkx.generators.random_graphs import erdos_renyi_graph\n",
        "G = erdos_renyi_graph(n, p)\n",
        "print(G)\n",
        "# iterate over the connected components and make a list of the subgraphs\n",
        "cc = [ G.subgraph(c) for c in nx.connected_components(G) ]\n",
        "print(len(cc), 'components') # check how many there are\n",
        "from networkx.algorithms.shortest_paths.generic import shortest_path\n",
        "\n",
        "# this is a dictionary that gives for each vertex and each other vertex the sequence of vertex visits\n",
        "sp = shortest_path(G, method='dijkstra')  \n",
        "for subgraph in cc:\n",
        "    if len(subgraph) > 2: # if it has more than two vertices\n",
        "        diameter = None # we do not know this yet\n",
        "        storage = None # this is where we will store the path that gives the diameter\n",
        "        for v in subgraph: # iterate over its vertices\n",
        "             for w in subgraph: # match them with all the others\n",
        "                 if v > w: # do not check the pairs twice nor a vertex to itself\n",
        "                     path = sp[v][w] # check the shortest path\n",
        "                     l = len(path) - 1 # how many edges does it traverse? (vertices visited minus one)\n",
        "                     if diameter is None or l > diameter: # if it is longer than what we have seen\n",
        "                         diameter = l # update the longest seen thus far\n",
        "                         storage = path # store it\n",
        "        print(path) # let's see the path that defines the diameter of the component\n",
        "                      "
      ]
    }
  ]
}